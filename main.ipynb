{
 "cells": [
  {
   "cell_type": "code",
   "execution_count": 7,
   "id": "33f48c7a",
   "metadata": {},
   "outputs": [
    {
     "name": "stdout",
     "output_type": "stream",
     "text": [
      "Equivalent resistance between node 0 and 0 (opposite corners): 0.0\n",
      "Equivalent resistance between node 0 and 1 (opposite corners): 0.5833333333333334\n",
      "Equivalent resistance between node 0 and 2 (opposite corners): 0.5833333333333331\n",
      "Equivalent resistance between node 0 and 3 (opposite corners): 0.75\n",
      "Equivalent resistance between node 0 and 4 (opposite corners): 0.5833333333333331\n",
      "Equivalent resistance between node 0 and 5 (opposite corners): 0.7499999999999999\n",
      "Equivalent resistance between node 0 and 6 (opposite corners): 0.7499999999999999\n"
     ]
    }
   ],
   "source": [
    "import numpy as np\n",
    "\n",
    "def equivalent_resistance(n, edges, node1, node2):\n",
    "    G = np.zeros((n, n))  # conductance matrix\n",
    "\n",
    "    # Fill in the conductance matrix\n",
    "    for i, j, R in edges:\n",
    "        conductance = 1.0 / R\n",
    "        G[i, i] += conductance\n",
    "        G[j, j] += conductance\n",
    "        G[i, j] -= conductance\n",
    "        G[j, i] -= conductance\n",
    "\n",
    "    # Inject 1A from node1 to node2\n",
    "    b = np.zeros(n)\n",
    "    b[node1] = 1\n",
    "    b[node2] = -1\n",
    "\n",
    "    # Ground one node (remove that row/column)\n",
    "    grounded = 0\n",
    "    G_reduced = np.delete(np.delete(G, grounded, axis=0), grounded, axis=1)\n",
    "    b_reduced = np.delete(b, grounded)\n",
    "\n",
    "    # Solve for voltages\n",
    "    v = np.linalg.solve(G_reduced, b_reduced)\n",
    "\n",
    "    # Insert 0V for grounded node\n",
    "    v = np.insert(v, grounded, 0)\n",
    "\n",
    "    # Voltage difference = resistance (since current = 1A)\n",
    "    return v[node1] - v[node2]\n",
    "\n",
    "# Define cube edges (each resistor = 1Ω)\n",
    "edges = [\n",
    "    (0, 1, 1.0), (1, 3, 1.0), (3, 2, 1.0), (2, 0, 1.0),  # top square\n",
    "    (4, 5, 1.0), (5, 7, 1.0), (7, 6, 1.0), (6, 4, 1.0),  # bottom square\n",
    "    (0, 4, 1.0), (1, 5, 1.0), (2, 6, 1.0), (3, 7, 1.0)   # vertical edges\n",
    "]\n",
    "\n",
    "# Compute resistance between opposite corners: 0 and 7\n",
    "for i in range(0, 7):\n",
    "    R = equivalent_resistance(8, edges, 0, i)\n",
    "    print(\"Equivalent resistance between node {0} and {1} (opposite corners): {2}\".format(0, i, R))\n",
    "\n"
   ]
  },
  {
   "cell_type": "code",
   "execution_count": null,
   "id": "8c4d8570",
   "metadata": {},
   "outputs": [],
   "source": []
  }
 ],
 "metadata": {
  "kernelspec": {
   "display_name": "Python 3 (ipykernel)",
   "language": "python",
   "name": "python3"
  },
  "language_info": {
   "codemirror_mode": {
    "name": "ipython",
    "version": 3
   },
   "file_extension": ".py",
   "mimetype": "text/x-python",
   "name": "python",
   "nbconvert_exporter": "python",
   "pygments_lexer": "ipython3",
   "version": "3.11.3"
  }
 },
 "nbformat": 4,
 "nbformat_minor": 5
}
